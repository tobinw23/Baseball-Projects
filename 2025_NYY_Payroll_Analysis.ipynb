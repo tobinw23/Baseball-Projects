{
  "nbformat": 4,
  "nbformat_minor": 0,
  "metadata": {
    "colab": {
      "provenance": [],
      "authorship_tag": "ABX9TyMTySMWQ5EdZW4YdC77krg9",
      "include_colab_link": true
    },
    "kernelspec": {
      "name": "python3",
      "display_name": "Python 3"
    },
    "language_info": {
      "name": "python"
    }
  },
  "cells": [
    {
      "cell_type": "markdown",
      "metadata": {
        "id": "view-in-github",
        "colab_type": "text"
      },
      "source": [
        "<a href=\"https://colab.research.google.com/github/tobinw23/Baseball-Projects/blob/main/2025_NYY_Payroll_Analysis.ipynb\" target=\"_parent\"><img src=\"https://colab.research.google.com/assets/colab-badge.svg\" alt=\"Open In Colab\"/></a>"
      ]
    },
    {
      "cell_type": "code",
      "execution_count": 1,
      "metadata": {
        "colab": {
          "base_uri": "https://localhost:8080/"
        },
        "id": "Fu1QhSF6B6YC",
        "outputId": "b256901f-86b1-460a-ba6f-986b9b31b294"
      },
      "outputs": [
        {
          "output_type": "stream",
          "name": "stdout",
          "text": [
            "Collecting pulp\n",
            "  Downloading PuLP-2.9.0-py3-none-any.whl.metadata (5.4 kB)\n",
            "Downloading PuLP-2.9.0-py3-none-any.whl (17.7 MB)\n",
            "\u001b[2K   \u001b[90m━━━━━━━━━━━━━━━━━━━━━━━━━━━━━━━━━━━━━━━━\u001b[0m \u001b[32m17.7/17.7 MB\u001b[0m \u001b[31m28.1 MB/s\u001b[0m eta \u001b[36m0:00:00\u001b[0m\n",
            "\u001b[?25hInstalling collected packages: pulp\n",
            "Successfully installed pulp-2.9.0\n",
            "Optimal Roster Construction:\n",
            "Aaron Judge (WAR: 7.9, Salary: $40,000,000)\n",
            "Giancarlo Stanton (WAR: 1.3, Salary: $32,000,000)\n",
            "Cody Bellinger (WAR: 5.0, Salary: $25,000,000)\n",
            "DJ LeMahieu (WAR: 0.6, Salary: $15,000,000)\n",
            "Paul Goldschmidt (WAR: 2.0, Salary: $12,500,000)\n",
            "Jazz Chisholm Jr (WAR: 2.9, Salary: $5,850,000)\n",
            "Jasson Dominguez (WAR: 2.0, Salary: $800,000)\n",
            "Anthony Volpe (WAR: 3.3, Salary: $800,000)\n",
            "Austin Wells (WAR: 3.6, Salary: $800,000)\n",
            "Marcus Stroman (WAR: 0.8, Salary: $18,333,333)\n",
            "Max Fried (WAR: 3.3, Salary: $27,500,000)\n",
            "Carlos Rodon (WAR: 2.8, Salary: $27,833,333)\n",
            "Devin Williams (WAR: 1.0, Salary: $8,600,000)\n",
            "Trent Grisham (WAR: 0.7, Salary: $5,000,000)\n",
            "Clarke Schmidt (WAR: 1.7, Salary: $3,600,000)\n",
            "Luke Weaver (WAR: 0.6, Salary: $2,500,000)\n",
            "Mark Leiter (WAR: 0.4, Salary: $2,275,000)\n",
            "Fernando Cruz (WAR: 0.7, Salary: $800,000)\n",
            "Ian Hamilton (WAR: 0.6, Salary: $800,000)\n",
            "Luis Gil (WAR: 1.8, Salary: $800,000)\n",
            "Oswaldo Cabrera (WAR: 1.1, Salary: $800,000)\n",
            "Oswald Peraza (WAR: 0.8, Salary: $800,000)\n",
            "Gerrit Cole (WAR: 3.1, Salary: $36,000,000)\n",
            "JT Brubaker (WAR: 0.3, Salary: $800,000)\n",
            "Jonathan Loaisiga (WAR: 0.4, Salary: $5,000,000)\n",
            "Clayton Beeter (WAR: 0.3, Salary: $800,000)\n",
            "\n",
            "Total WAR: 49.00\n",
            "Total Salary: $274,991,666\n"
          ]
        }
      ],
      "source": [
        "!pip install pulp\n",
        "import pulp\n",
        "\n",
        "players_data = [\n",
        "    ('Aaron Judge', 7.9, 40_000_000),\n",
        "    ('Giancarlo Stanton', 1.3, 32_000_000),\n",
        "    ('Cody Bellinger', 5.0, 25_000_000),\n",
        "    ('DJ LeMahieu', 0.6, 15_000_000),\n",
        "    ('Paul Goldschmidt', 2.0, 12_500_000),\n",
        "    ('Jazz Chisholm Jr', 2.9, 5_850_000),\n",
        "    ('Jasson Dominguez', 2.0, 800_000),\n",
        "    ('Anthony Volpe', 3.3, 800_000),\n",
        "    ('Austin Wells', 3.6, 800_000),\n",
        "    ('Marcus Stroman', 0.8, 18_333_333),\n",
        "    ('Max Fried', 3.3, 27_500_000),\n",
        "    ('Carlos Rodon', 2.8, 27_833_333),\n",
        "    ('Devin Williams',1.0, 8_600_000),\n",
        "    ('Trent Grisham', 0.7, 5_000_000),\n",
        "    ('Clarke Schmidt', 1.7, 3_600_000),\n",
        "    ('Luke Weaver', 0.6, 2_500_000),\n",
        "    ('Mark Leiter', 0.4, 2_275_000),\n",
        "    ('Jake Cousins', 0.2, 800_000),\n",
        "    ('Fernando Cruz', 0.7, 800_000),\n",
        "    ('Ian Hamilton', 0.6, 800_000),\n",
        "    ('Luis Gil', 1.8, 800_000),\n",
        "    ('Oswaldo Cabrera', 1.1, 800_000),\n",
        "    ('Oswald Peraza', 0.8, 800_000),\n",
        "    ('Gerrit Cole', 3.1, 36_000_000),\n",
        "    ('JT Brubaker', 0.3, 800_000),\n",
        "    ('Jonathan Loaisiga', 0.4, 5_000_000),\n",
        "    ('Scott Effross', 0.0, 800_000),\n",
        "    ('Clayton Beeter', 0.3, 800_000),\n",
        "    ('Michael Arias', 0.0, 800_000),\n",
        "    ('Yerry De Los Santos', 0.0, 800_000),\n",
        "    ('Roansy Contreras', 0.0, 800_000),\n",
        "    ('Yoendrys Gomez', 0.0, 800_000),\n",
        "    ('Will Warren', 0.2, 800_000),\n",
        "    ('Allan Winans', 0.0, 800_000),\n",
        "    ('JC Escarra', 0.1, 800_000),\n",
        "    ('Jesus Rodriguez', 0.0, 800_000),\n",
        "    ('Ben Rice', 0.1, 800_000),\n",
        "    ('Jorbit Vivas', 0.0, 800_000),\n",
        "    ('Everson Pereira', 0.0, 800_000)\n",
        "    ]\n",
        "\n",
        "payroll_limit = 301_000_000\n",
        "\n",
        "\n",
        "prob = pulp.LpProblem(\"Roster_Construction\", pulp.LpMaximize)\n",
        "\n",
        "\n",
        "player_vars = {player[0]: pulp.LpVariable(player[0], cat=\"Binary\") for player in players_data}\n",
        "\n",
        "prob += pulp.lpSum([player[1] * player_vars[player[0]] for player in players_data]), \"Total_WAR\"\n",
        "\n",
        "\n",
        "prob += pulp.lpSum([player[2] * player_vars[player[0]] for player in players_data]) <= payroll_limit, \"Total_Salary_Constraint\"\n",
        "prob += pulp.lpSum([player_vars[player[0]] for player in players_data]) <= 26, \"Player_Limit\"\n",
        "\n",
        "\n",
        "prob.solve()\n",
        "\n",
        "\n",
        "print(\"Optimal Roster Construction:\")\n",
        "for player in players_data:\n",
        "    if pulp.value(player_vars[player[0]]) == 1:\n",
        "        print(f\"{player[0]} (WAR: {player[1]}, Salary: ${player[2]:,.0f})\")\n",
        "\n",
        "print(f\"\\nTotal WAR: {pulp.value(prob.objective):.2f}\")\n",
        "print(f\"Total Salary: ${sum(player[2] * pulp.value(player_vars[player[0]]) for player in players_data):,.0f}\")\n"
      ]
    }
  ]
}